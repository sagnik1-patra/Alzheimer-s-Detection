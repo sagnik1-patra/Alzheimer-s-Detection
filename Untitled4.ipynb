{
 "cells": [
  {
   "cell_type": "code",
   "execution_count": 1,
   "id": "fe2af7c2-7abd-4166-a5fc-e186b10c313c",
   "metadata": {},
   "outputs": [
    {
     "name": "stdout",
     "output_type": "stream",
     "text": [
      "✅ Installation step finished.\n"
     ]
    }
   ],
   "source": [
    "# JUPYTER CELL — install TensorFlow + common deps used in your script\n",
    "import sys, subprocess\n",
    "\n",
    "def pip(*args):\n",
    "    return subprocess.check_call([sys.executable, \"-m\", \"pip\", *args])\n",
    "\n",
    "# Keep pip fresh\n",
    "pip(\"install\", \"--upgrade\", \"pip\", \"setuptools\", \"wheel\")\n",
    "\n",
    "# Try the best match for your Python version\n",
    "py = sys.version_info\n",
    "tried = []\n",
    "try:\n",
    "    if py.minor >= 12:\n",
    "        tried.append(\"tensorflow==2.16.1\")\n",
    "        pip(\"install\", \"tensorflow==2.16.1\")   # Python 3.12+ friendly\n",
    "    else:\n",
    "        tried.append(\"tensorflow==2.15.0\")\n",
    "        pip(\"install\", \"tensorflow==2.15.0\")   # Python 3.11 (Windows) friendly\n",
    "except Exception as e:\n",
    "    print(f\"[WARN] Failed {tried[-1]} → {e}\\nTrying generic 'tensorflow'...\")\n",
    "    pip(\"install\", \"tensorflow\")               # fallback to latest compatible\n",
    "\n",
    "# (Optional) extra libs your script uses\n",
    "pip(\"install\", \"opencv-python\", \"pyyaml\", \"scikit-learn\", \"numpy\", \"pandas\", \"matplotlib\")\n",
    "print(\"✅ Installation step finished.\")\n"
   ]
  },
  {
   "cell_type": "code",
   "execution_count": 2,
   "id": "24c64719-2521-4558-8c53-bbeff65eab07",
   "metadata": {},
   "outputs": [
    {
     "name": "stdout",
     "output_type": "stream",
     "text": [
      "Python: 3.11.9 (tags/v3.11.9:de54cf5, Apr  2 2024, 10:12:12) [MSC v.1938 64 bit (AMD64)]\n",
      "Bitness: 64 bit\n",
      "OS: Windows 10\n",
      "Pip site: ['C:\\\\Users\\\\NXTWAVE\\\\AppData\\\\Local\\\\Programs\\\\Python\\\\Python311', 'C:\\\\Users\\\\NXTWAVE\\\\AppData\\\\Local\\\\Programs\\\\Python\\\\Python311\\\\Lib\\\\site-packages']\n",
      ">> pip install --upgrade pip setuptools wheel\n",
      ">> pip uninstall -y tensorflow\n",
      ">> pip uninstall -y tensorflow-intel\n",
      ">> pip uninstall -y tensorflow-cpu\n",
      ">> pip uninstall -y keras\n",
      ">> pip uninstall -y keras-nightly\n",
      ">> pip install --upgrade numpy<2 h5py protobuf<4.25\n",
      ">> pip install tensorflow==2.15.1\n",
      "\n",
      "✅ Reinstall step complete. Now RESTART the kernel (Kernel > Restart) before importing TensorFlow.\n"
     ]
    }
   ],
   "source": [
    "import sys, subprocess, platform, struct, site\n",
    "\n",
    "def pip(*args):\n",
    "    print(\">> pip\", \" \".join(args))\n",
    "    return subprocess.check_call([sys.executable, \"-m\", \"pip\", *args])\n",
    "\n",
    "print(\"Python:\", sys.version)\n",
    "print(\"Bitness:\", struct.calcsize(\"P\")*8, \"bit\")\n",
    "print(\"OS:\", platform.system(), platform.release())\n",
    "print(\"Pip site:\", site.getsitepackages())\n",
    "\n",
    "# 1) Keep build tools fresh\n",
    "pip(\"install\", \"--upgrade\", \"pip\", \"setuptools\", \"wheel\")\n",
    "\n",
    "# 2) Remove any previous TF/Keras that might be half-installed\n",
    "for pkg in [\"tensorflow\", \"tensorflow-intel\", \"tensorflow-cpu\", \"keras\", \"keras-nightly\"]:\n",
    "    try:\n",
    "        pip(\"uninstall\", \"-y\", pkg)\n",
    "    except Exception as e:\n",
    "        print(f\"(skip) {pkg}: {e}\")\n",
    "\n",
    "# 3) Ensure a TF-compatible NumPy on Windows (TF 2.15.x wants < 2.0)\n",
    "pip(\"install\", \"--upgrade\", \"numpy<2\", \"h5py\", \"protobuf<4.25\")\n",
    "\n",
    "# 4) Install a Windows-friendly TF build\n",
    "#    For Python 3.11 on Windows, TF 2.15.1 is stable.\n",
    "pip(\"install\", \"tensorflow==2.15.1\")\n",
    "\n",
    "print(\"\\n✅ Reinstall step complete. Now RESTART the kernel (Kernel > Restart) before importing TensorFlow.\")\n"
   ]
  },
  {
   "cell_type": "code",
   "execution_count": 1,
   "id": "ddebde6e-115c-4d18-8ad9-649395f78c5e",
   "metadata": {},
   "outputs": [
    {
     "name": "stdout",
     "output_type": "stream",
     "text": [
      "WARNING:tensorflow:From C:\\Users\\NXTWAVE\\AppData\\Local\\Programs\\Python\\Python311\\Lib\\site-packages\\keras\\src\\losses.py:2976: The name tf.losses.sparse_softmax_cross_entropy is deprecated. Please use tf.compat.v1.losses.sparse_softmax_cross_entropy instead.\n",
      "\n",
      "TensorFlow: 2.15.1\n",
      "Built with CUDA: False\n",
      "GPUs: []\n"
     ]
    }
   ],
   "source": [
    "import tensorflow as tf\n",
    "print(\"TensorFlow:\", tf.__version__)\n",
    "print(\"Built with CUDA:\", tf.test.is_built_with_cuda())\n",
    "print(\"GPUs:\", tf.config.list_physical_devices(\"GPU\"))\n"
   ]
  },
  {
   "cell_type": "code",
   "execution_count": null,
   "id": "70f68d88-3e06-4098-ab34-7abcf780081b",
   "metadata": {},
   "outputs": [],
   "source": []
  }
 ],
 "metadata": {
  "kernelspec": {
   "display_name": "Python 3 (ipykernel)",
   "language": "python",
   "name": "python3"
  },
  "language_info": {
   "codemirror_mode": {
    "name": "ipython",
    "version": 3
   },
   "file_extension": ".py",
   "mimetype": "text/x-python",
   "name": "python",
   "nbconvert_exporter": "python",
   "pygments_lexer": "ipython3",
   "version": "3.11.9"
  }
 },
 "nbformat": 4,
 "nbformat_minor": 5
}
